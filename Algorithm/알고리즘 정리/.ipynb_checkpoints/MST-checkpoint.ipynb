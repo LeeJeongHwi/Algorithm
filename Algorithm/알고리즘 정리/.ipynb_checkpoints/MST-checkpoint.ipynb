{
 "cells": [
  {
   "cell_type": "markdown",
   "metadata": {},
   "source": [
    "# MST 최소 스패닝 트리\n",
    "\n",
    "- 최소스패닝 트리는 그래프에서 그래프의 모든 정점을 연결하되, **사이클이 존재하지 않도록** 모든 정점을 간선으로 연결하는 것을 의미\n",
    "- **간선의 가중치 합을 최소**로 하며 연결\n",
    "> 무조건 하나의 그래프에서 하나만 생성된다고는 보장하지 못함"
   ]
  },
  {
   "cell_type": "markdown",
   "metadata": {},
   "source": [
    "### 크루스칼 알고리즘(Kruskal's Algorithm)\n",
    "\n",
    "- **모든 간선에 대해 가장 가중치가 작은 간선부터 연결**해주면서 스패닝트리를 만듬\n",
    "- 가장 작은 간선부터 연결하되, **연결하는 도중 사이클에 생기게 되면 가중치가 작은 간선이어도 무시**\n",
    "\n",
    "#### 유니온 파인드 알고리즘(Union-Find (disjoint-set) Algorithm)\n",
    "- **서로 중복되지 않는 부분 집합**들로 나눠진 원소들에 대한 정보를 저장하고 조작하는 자료구조 (공통 원소가 없음)\n",
    "- 다수의 노드들 중에 연결된 노드를 찾거나 노드들을 합칠 때 사용하는 알고리즘\n",
    "- 트리 구조를 이용하여 구현\n",
    "> - 초기화  \n",
    ">  - N개의 원소가 각각의 집합에 포함되어 있도록 초기화\n",
    "> - union 연산\n",
    ">  - 두 원소 a,b가 주어질 때, 이들이 속한 두 집합을 하나로 합침\n",
    "> - find 연산\n",
    ">  - 어떤 원소 a가 주어질 때, 이 원소가 속한 집합을 반환\n",
    "\n",
    "- 배열로 사용할 시 시간 복잡도는 O(N), 따라서 트리구조로 많이 사용\n",
    "- 일반적으로 부모를 합칠 때는 더 작은 값 쪽을 합침"
   ]
  },
  {
   "cell_type": "markdown",
   "metadata": {},
   "source": [
    "배열 방식"
   ]
  },
  {
   "cell_type": "code",
   "execution_count": 5,
   "metadata": {},
   "outputs": [
    {
     "name": "stdout",
     "output_type": "stream",
     "text": [
      "[0, 0, 0, 0, 4, 4, 4, 4, 8, 8]\n",
      "3\n"
     ]
    }
   ],
   "source": [
    "#배열방식\n",
    "class DisjointSet:\n",
    "    def __init__(self,n):\n",
    "        self.data = list(range(n))\n",
    "        self.size = n\n",
    "    \n",
    "    def find(self,index):\n",
    "        return self.data[index]\n",
    "    \n",
    "    def union(self,x,y):\n",
    "        x,y = self.find(x), self.find(y)\n",
    "        \n",
    "        if x == y:\n",
    "            return\n",
    "        \n",
    "        for i in range(self.size):\n",
    "            if self.find(i) == y:\n",
    "                self.data[i] = x\n",
    "    @property\n",
    "    def length(self):\n",
    "        return len(set(self.data))\n",
    "\n",
    "disjoint = DisjointSet(10)\n",
    "\n",
    "disjoint.union(0,1)\n",
    "disjoint.union(1,2)\n",
    "disjoint.union(2,3)\n",
    "disjoint.union(4,5)\n",
    "disjoint.union(5,6)\n",
    "disjoint.union(6,7)\n",
    "disjoint.union(8,9)\n",
    "\n",
    "print(disjoint.data)\n",
    "print(disjoint.length)"
   ]
  },
  {
   "cell_type": "markdown",
   "metadata": {},
   "source": [
    "트리 방식 - Union-by-size\n",
    "- 주어진 원소의 개수 만큼 사용하지 않을 값 생성\n",
    "- 루트 노드의 인덱스를 찾음\n",
    "- 루트 노드의 인덱스가 다르다면 리스트이 값이 더 낮은(size가 더 큰) 것을 찾아 큰 것에 더해줌\n",
    "- 작은건 큰 것의 인덱스를 바꿔줌\n",
    "\n",
    "> 시간복잡도는 O(logn)"
   ]
  },
  {
   "cell_type": "code",
   "execution_count": 10,
   "metadata": {},
   "outputs": [
    {
     "name": "stdout",
     "output_type": "stream",
     "text": [
      "[1, -4, 1, 1, 5, -4, 5, 5, 9, -2]\n",
      "3\n"
     ]
    }
   ],
   "source": [
    "class DisjointSet_tree:\n",
    "    def __init__(self,n):\n",
    "        self.data = [-1 for _ in range(n)]\n",
    "        self.size = n\n",
    "    \n",
    "    def find(self,index):\n",
    "        value = self.data[index]\n",
    "        if value < 0:\n",
    "            return index\n",
    "        return self.find(value)\n",
    "    \n",
    "    def union(self, x,y):\n",
    "        x=self.find(x)\n",
    "        y=self.find(y)\n",
    "        \n",
    "        if x == y:\n",
    "            return\n",
    "        \n",
    "        if self.data[x] < self.data[y]:\n",
    "            self.data[x] += self.data[y]\n",
    "            self.data[y] = x\n",
    "        else:\n",
    "            self.data[y] += self.data[x]\n",
    "            self.data[x] = y\n",
    "        \n",
    "        self.size -=1\n",
    "        \n",
    "disjoint = DisjointSet_tree(10)\n",
    "\n",
    "disjoint.union(0,1)\n",
    "disjoint.union(1,2)\n",
    "disjoint.union(2,3)\n",
    "disjoint.union(4,5)\n",
    "disjoint.union(5,6)\n",
    "disjoint.union(6,7)\n",
    "disjoint.union(8,9)\n",
    "\n",
    "print(disjoint.data)\n",
    "print(disjoint.size)"
   ]
  },
  {
   "cell_type": "markdown",
   "metadata": {},
   "source": [
    "트리 방식 - Union-by-height"
   ]
  },
  {
   "cell_type": "code",
   "execution_count": 16,
   "metadata": {},
   "outputs": [
    {
     "name": "stdout",
     "output_type": "stream",
     "text": [
      "[-2, 0, -1, -1, -1, -1, -1, -1, -1, -1]\n",
      "[-2, 0, 0, -1, -1, -1, -1, -1, -1, -1]\n",
      "[-2, 0, 0, 0, -1, -1, -1, -1, -1, -1]\n",
      "[-2, 0, 0, 0, -2, 4, -1, -1, -1, -1]\n",
      "[-2, 0, 0, 0, -2, 4, 4, -1, -1, -1]\n",
      "[-2, 0, 0, 0, -2, 4, 4, 4, -1, -1]\n",
      "[-2, 0, 0, 0, -2, 4, 4, 4, -2, 8]\n",
      "[-2, 0, 0, 0, -2, 4, 4, 4, -2, 8]\n",
      "3\n"
     ]
    }
   ],
   "source": [
    "class DisjointSet_tree:\n",
    "    def __init__(self,n):\n",
    "        self.data = [-1 for _ in range(n)]\n",
    "        self.size = n\n",
    "    \n",
    "    def find(self,index):\n",
    "        value = self.data[index]\n",
    "        if value < 0:\n",
    "            return index\n",
    "        return self.find(value)\n",
    "    \n",
    "    def union(self, x,y):\n",
    "        x=self.find(x)\n",
    "        y=self.find(y)\n",
    "        \n",
    "        if x == y:\n",
    "            return\n",
    "        \n",
    "        #작은 원소의 값이 즉 루트노드가 되기 때문\n",
    "        if self.data[x] < self.data[y]:\n",
    "            self.data[y] = x\n",
    "        elif self.data[x] > self.data[y]:\n",
    "            self.data[x] = y\n",
    "        elif self.data[x] == self.data[y]:\n",
    "            self.data[x] -=1\n",
    "            self.data[y] = x\n",
    "        \n",
    "        self.size -=1\n",
    "        \n",
    "disjoint = DisjointSet_tree(10)\n",
    "\n",
    "disjoint.union(0,1)\n",
    "print(disjoint.data)\n",
    "disjoint.union(1,2)\n",
    "print(disjoint.data)\n",
    "disjoint.union(2,3)\n",
    "print(disjoint.data)\n",
    "disjoint.union(4,5)\n",
    "print(disjoint.data)\n",
    "disjoint.union(5,6)\n",
    "print(disjoint.data)\n",
    "disjoint.union(6,7)\n",
    "print(disjoint.data)\n",
    "disjoint.union(8,9)\n",
    "print(disjoint.data)\n",
    "\n",
    "print(disjoint.data)\n",
    "print(disjoint.size)"
   ]
  },
  {
   "cell_type": "markdown",
   "metadata": {},
   "source": [
    "Path Comprehension\n",
    "\n",
    "- 위에 나온 union-by-size,height 방식에서 find() 연산을 수행할 때 트리의 높이 만큼 올라가 루트를 찾는 것이라 비효율적 (find() 연산 비용 감소하는 방법)"
   ]
  },
  {
   "cell_type": "code",
   "execution_count": 2,
   "metadata": {},
   "outputs": [
    {
     "name": "stdout",
     "output_type": "stream",
     "text": [
      "[-2, 0, -1, -1, -1, -1, -1, -1, -1, -1]\n",
      "[-2, 0, 0, -1, -1, -1, -1, -1, -1, -1]\n",
      "[-2, 0, 0, 0, -1, -1, -1, -1, -1, -1]\n",
      "[-2, 0, 0, 0, -2, 4, -1, -1, -1, -1]\n",
      "[-2, 0, 0, 0, -2, 4, 4, -1, -1, -1]\n",
      "[-2, 0, 0, 0, -2, 4, 4, 4, -1, -1]\n",
      "[-2, 0, 0, 0, -2, 4, 4, 4, -2, 8]\n",
      "[-2, 0, 0, 0, -2, 4, 4, 4, -2, 8]\n",
      "3\n"
     ]
    }
   ],
   "source": [
    "class DisjointSet_path:\n",
    "    def __init__(self,n):\n",
    "        self.data = [-1 for _ in range(n)]\n",
    "        self.size = n\n",
    "    def upward(self, change_list, index):\n",
    "        value = self.data[index]\n",
    "        if value<0:\n",
    "            return index\n",
    "        \n",
    "        change_list.append(index)\n",
    "        return self.upward(change_list,value)\n",
    "    \n",
    "    def find(self,index):\n",
    "        change_list = []\n",
    "        result = self.upward(change_list,index)\n",
    "        \n",
    "        for i in change_list:\n",
    "            self.data[i] = result\n",
    "        return result\n",
    "    \n",
    "    def union(self,x,y):\n",
    "        x = self.find(x)\n",
    "        y = self.find(y)\n",
    "        \n",
    "        if x == y:\n",
    "            return\n",
    "        \n",
    "        if self.data[x] < self.data[y]:\n",
    "            self.data[y] = x\n",
    "        elif self.data[x] > self.data[y] :\n",
    "            self.data[x] = y\n",
    "        else:\n",
    "            self.data[x] -= 1\n",
    "            self.data[y] = x\n",
    "        self.size -=1\n",
    "disjoint = DisjointSet_path(10)\n",
    "\n",
    "disjoint.union(0,1)\n",
    "print(disjoint.data)\n",
    "disjoint.union(1,2)\n",
    "print(disjoint.data) \n",
    "disjoint.union(2,3)\n",
    "print(disjoint.data)\n",
    "disjoint.union(4,5)\n",
    "print(disjoint.data)\n",
    "disjoint.union(5,6)\n",
    "print(disjoint.data)\n",
    "disjoint.union(6,7)\n",
    "print(disjoint.data)\n",
    "disjoint.union(8,3)\n",
    "print(disjoint.data)\n",
    "\n",
    "print(disjoint.data)\n",
    "print(disjoint.size)"
   ]
  },
  {
   "cell_type": "code",
   "execution_count": null,
   "metadata": {},
   "outputs": [],
   "source": []
  }
 ],
 "metadata": {
  "kernelspec": {
   "display_name": "Python 3",
   "language": "python",
   "name": "python3"
  },
  "language_info": {
   "codemirror_mode": {
    "name": "ipython",
    "version": 3
   },
   "file_extension": ".py",
   "mimetype": "text/x-python",
   "name": "python",
   "nbconvert_exporter": "python",
   "pygments_lexer": "ipython3",
   "version": "3.7.4"
  }
 },
 "nbformat": 4,
 "nbformat_minor": 4
}
