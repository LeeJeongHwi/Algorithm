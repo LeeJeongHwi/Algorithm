{
 "cells": [
  {
   "cell_type": "code",
   "execution_count": 16,
   "metadata": {},
   "outputs": [],
   "source": [
    "import numpy as np\n",
    "from tkinter import *\n",
    "from matplotlib.figure import Figure\n",
    "from matplotlib.backends.backend_tkagg import FigureCanvasTkAgg\n",
    "import math\n",
    "import pandas as pd\n",
    "\n",
    "MAXVAL = 0\n",
    "INTERVAL = 1000\n",
    "\n",
    "fig = Figure(figsize=(5,4) , dpi = 100)\n",
    "ax = fig.add_subplot(111)"
   ]
  },
  {
   "cell_type": "code",
   "execution_count": 17,
   "metadata": {},
   "outputs": [],
   "source": [
    "marathon_2015_2017 = pd.read_csv('./data/marathon_2015_2017.csv')\n",
    "record = pd.DataFrame(marathon_2015_2017,columns=['5K','10K','15K','20K','Half','25K','30K','35K','40K','Official Time']).sort_values(by=['Official Time'])\n",
    "\n",
    "#Dataframe to List\n",
    "record_list = record.values.tolist()\n",
    "\n",
    "#Distance = Xdata\n",
    "xData= [5,10,15,20,21.098,25,30,35,40,42.195]"
   ]
  },
  {
   "cell_type": "code",
   "execution_count": 18,
   "metadata": {},
   "outputs": [],
   "source": [
    "def update():\n",
    "    t_a= int(t_aSpbox.get())\n",
    "    MAXVAL = t_a * INTERVAL\n",
    "    ax.set_xlabel(\"Distance(km)\")\n",
    "    ax.set_ylabel(\"Time(second)\")\n",
    "    ax.set_title(str(t_a)+\" records of runners\")\n",
    "    \n",
    "    for t in range(0,MAXVAL,INTERVAL):\n",
    "        ax.plot(xData,record_list[int(t)],'o',label=str(t+1))\n",
    "        \n",
    "    ax.legend()\n",
    "    fig.canvas.draw()"
   ]
  },
  {
   "cell_type": "code",
   "execution_count": 19,
   "metadata": {},
   "outputs": [],
   "source": [
    "main = Tk()\n",
    "main.title('Marathon Records')\n",
    "main.geometry()\n",
    "\n",
    "label=Label(main, text='Marathon Records')\n",
    "label.config(font=('Courier',18))\n",
    "label.grid(row=0,column=0,columnspan=4)\n",
    "\n",
    "t_aVal = DoubleVar(value=1.0)\n",
    "t_aSpbox = Spinbox(main,textvariable=t_aVal, from_=0, to=100,increment=1,justify=RIGHT)\n",
    "t_aSpbox.config(state='readonly')\n",
    "t_aSpbox.grid(row=1,column=1)\n",
    "t_aLabel = Label(main,text='Number of runner : ')\n",
    "t_aLabel.grid(row=1,column=0)\n",
    "\n",
    "Button(main,text='Run',width=20,height=5,command=lambda:update()).grid(row=1,column=2,columnspan=2,rowspan=1)\n",
    "\n",
    "canvas = FigureCanvasTkAgg(fig,main)\n",
    "canvas.get_tk_widget().grid(row=4,column=0,columnspan=3)\n",
    "\n",
    "main.mainloop()"
   ]
  },
  {
   "cell_type": "code",
   "execution_count": 20,
   "metadata": {},
   "outputs": [],
   "source": [
    "#Animation\n",
    "\n",
    "from matplotlib.animation import FuncAnimation\n"
   ]
  },
  {
   "cell_type": "code",
   "execution_count": 36,
   "metadata": {},
   "outputs": [],
   "source": [
    "fig = Figure(figsize=(5,4),dpi=100)\n",
    "ax=fig.add_subplot(111)\n",
    "\n",
    "t_xdata, t_ydata = [], []\n",
    "ax.set_xlim(0,45)\n",
    "ax.set_ylim(0,10000)\n",
    "dn, = ax.plot([],[],'ro')\n",
    "t_a = 0"
   ]
  },
  {
   "cell_type": "code",
   "execution_count": 37,
   "metadata": {},
   "outputs": [],
   "source": [
    "def seconds_to_hhmmss(seconds):\n",
    "    hours=seconds//(60*60)\n",
    "    seconds %= (60*60)\n",
    "    minutes = seconds // 60\n",
    "    seconds %= 60\n",
    "    return \"%02i:%02i:%02i\"%(hours,minutes,seconds)\n",
    "\n",
    "def init():\n",
    "    ax.set_xlim(0,45)\n",
    "    ax.set_ylim(0,10000)\n",
    "    return dn,\n",
    "def animateFrame(frame):\n",
    "    t_a = int(t_aSpbox.get())-1\n",
    "    t_x = xData[int(frame)]\n",
    "    t_y = record_list[t_a][int(frame)]\n",
    "    t_xdata.append(t_x)\n",
    "    t_ydata.append(t_y)\n",
    "    dn.set_data(t_xdata,t_ydata)\n",
    "    return dn,\n",
    "\n",
    "def update_ani():\n",
    "    t_a= int(t_aSpbox.get())-1\n",
    "    ani = FuncAnimation(fig,animateFrame,frames=np.linspace(0,len(xData)-1,len(xData)),\n",
    "                       init_func=init,blit=True)\n",
    "    \n",
    "    ax.set_xlabel(\"Distance(km)\")\n",
    "    ax.set_ylabel(\"Time(second)\")\n",
    "    ax.set_title(str(t_a)+\" records of runners\")\n",
    "    \n",
    "    record_list_format= [seconds_to_hhmmss(s) for s in record_list[t_a]]\n",
    "    \n",
    "    for i,txt in enumerate(record_list_format):\n",
    "        ax.annotate(txt,(xData[i], record_list[t_a][i]) , fontsize=8)\n",
    "    \n",
    "    fig.canvas.draw()"
   ]
  },
  {
   "cell_type": "code",
   "execution_count": 38,
   "metadata": {},
   "outputs": [],
   "source": [
    "main = Tk()\n",
    "main.title('Marathon Records')\n",
    "main.geometry()\n",
    "\n",
    "label=Label(main, text='Marathon Records')\n",
    "label.config(font=('Courier',18))\n",
    "label.grid(row=0,column=0,columnspan=4)\n",
    "\n",
    "t_aVal = DoubleVar(value=1.0)\n",
    "t_aSpbox = Spinbox(main,textvariable=t_aVal, from_=0, to=len(record_list),increment=1,justify=RIGHT)\n",
    "t_aSpbox.config(state='readonly')\n",
    "t_aSpbox.grid(row=1,column=1)\n",
    "t_aLabel = Label(main,text='Number of runner : ')\n",
    "t_aLabel.grid(row=1,column=0)\n",
    "\n",
    "Button(main,text='Run',width=20,height=5,command=lambda:update_ani()).grid(row=1,column=2,columnspan=2,rowspan=1)\n",
    "\n",
    "canvas = FigureCanvasTkAgg(fig,main)\n",
    "canvas.get_tk_widget().grid(row=4,column=0,columnspan=3)\n",
    "\n",
    "main.mainloop()"
   ]
  },
  {
   "cell_type": "code",
   "execution_count": null,
   "metadata": {},
   "outputs": [],
   "source": []
  }
 ],
 "metadata": {
  "kernelspec": {
   "display_name": "Python 3",
   "language": "python",
   "name": "python3"
  },
  "language_info": {
   "codemirror_mode": {
    "name": "ipython",
    "version": 3
   },
   "file_extension": ".py",
   "mimetype": "text/x-python",
   "name": "python",
   "nbconvert_exporter": "python",
   "pygments_lexer": "ipython3",
   "version": "3.7.4"
  }
 },
 "nbformat": 4,
 "nbformat_minor": 2
}
