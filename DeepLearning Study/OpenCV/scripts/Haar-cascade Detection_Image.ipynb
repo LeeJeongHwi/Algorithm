{
 "cells": [
  {
   "cell_type": "markdown",
   "metadata": {},
   "source": [
    "## Haar-cascade Detection\n",
    "\n",
    "Object Detection , Deep Neural Network(Dnn module)\n",
    "\n",
    "### Haar\n",
    "굉장히 빠르게 Object - Detection을 수행  \n",
    "장점 : 빠름, simple, 가벼움\n",
    "단점 : CNN보다 정확도가 떨어짐 --> CNN과 융합을 해야함 , 예외처리가 약함  \n",
    "> Haar 방식은 미리 정해준 방식으로 인식을 하는 것이라 예외처리가 약함!\n",
    "\n"
   ]
  },
  {
   "cell_type": "code",
   "execution_count": 1,
   "metadata": {},
   "outputs": [],
   "source": [
    "import cv2\n",
    "import numpy as np\n",
    "from tkinter import *\n",
    "from PIL import Image\n",
    "from PIL import ImageTk\n",
    "from tkinter import filedialog"
   ]
  },
  {
   "cell_type": "code",
   "execution_count": 2,
   "metadata": {},
   "outputs": [],
   "source": [
    "face_cascade_name = './haarcascade_frontalface_alt.xml'\n",
    "eyes_cascade_name= './haarcascade_eye_tree_eyeglasses.xml'\n",
    "file_name = '../source/marathon_01.jpg'\n",
    "title_name= 'Haar cascade object detection'\n",
    "frame_width = 500\n",
    "#사이즈를 크게함으로써 인식할 수 없는 것도 인식을 할 수 있게 만듬!"
   ]
  },
  {
   "cell_type": "code",
   "execution_count": 3,
   "metadata": {},
   "outputs": [],
   "source": [
    "def detectAndDisplay(frame):\n",
    "    frame_gray = cv2.cvtColor(frame,cv2.COLOR_BGR2GRAY)\n",
    "    frame_gray = cv2.equalizeHist(frame_gray) #Filter\n",
    "    #-- Detect Faces\n",
    "    faces = face_cascade.detectMultiScale(frame_gray)\n",
    "    #쪼개져 있는 그림을 어느 하나의 특정한 영역으로 만들어 만들어줌\n",
    "#     print(faces)\n",
    "    for x,y,w,h in faces:\n",
    "        center = (x+w//2 , y+h//2)\n",
    "        frame = cv2.rectangle(frame,(x,y),(x+w,y+h),(0,255,0),4)\n",
    "        #찾은 영역을 사각형으로 표시\n",
    "        faceROI = frame_gray[y:y+h,x:x+w]\n",
    "        #얼굴 안에서 다시 Detecting\n",
    "        eyes = eyes_cascade.detectMultiScale(faceROI)\n",
    "        for x2,y2,w2,h2 in eyes:\n",
    "            eye_center = (x+x2+w2//2 , y+y2+h2//2)\n",
    "            radius = int(round((w2+h2)*0.25)) #반지름\n",
    "            frame= cv2.circle(frame,eye_center,radius,(255,0,0),4)\n",
    "#         cv2.imshow(\"Capture\",frame)\n",
    "    image= cv2.cvtColor(frame,cv2.COLOR_BGR2RGB)\n",
    "    image = Image.fromarray(image)\n",
    "    imgtk = ImageTk.PhotoImage(image=image)\n",
    "    detection.config(image=imgtk)\n",
    "    detection.image=imgtk"
   ]
  },
  {
   "cell_type": "code",
   "execution_count": 4,
   "metadata": {},
   "outputs": [],
   "source": [
    "def selectFile():\n",
    "    file_name= filedialog.askopenfilename(initialdir='../source',\n",
    "                                         title='Select File',\n",
    "                                         filetypes=(('jpeg files','*.jpg'),\n",
    "                                                   ('all files','*.*')))\n",
    "    print(\"File name : \",file_name)\n",
    "    read_image = cv2.imread(file_name)\n",
    "    (height,width) = read_image.shape[:2]\n",
    "    frameSize = int(sizeSpin.get())\n",
    "    ratio = frameSize / width\n",
    "    dimension = (frameSize, int(height*ratio))\n",
    "    read_image = cv2.resize(read_image,dimension,interpolation=cv2.INTER_AREA)\n",
    "    image= cv2.cvtColor(read_image,cv2.COLOR_BGR2RGB)\n",
    "    image = Image.fromarray(image)\n",
    "    imgtk = ImageTk.PhotoImage(image=image)\n",
    "    detectAndDisplay(read_image)"
   ]
  },
  {
   "cell_type": "code",
   "execution_count": 5,
   "metadata": {},
   "outputs": [
    {
     "name": "stdout",
     "output_type": "stream",
     "text": [
      "File name :  C:/Users/wjdgn/OpenCV/source/marathon_01.jpg\n",
      "File name :  C:/Users/wjdgn/OpenCV/source/marathon_01.jpg\n",
      "File name :  C:/Users/wjdgn/OpenCV/source/marathon_01.jpg\n",
      "File name :  C:/Users/wjdgn/OpenCV/source/marathon_03.jpg\n",
      "File name :  C:/Users/wjdgn/OpenCV/source/soccer_03.jpg\n",
      "File name :  C:/Users/wjdgn/OpenCV/source/soccer_01.jpg\n",
      "File name :  C:/Users/wjdgn/OpenCV/source/soccer_02.jpg\n",
      "File name :  C:/Users/wjdgn/OpenCV/source/nomad_test.jpg\n",
      "File name :  C:/Users/wjdgn/OpenCV/source/marathon_02.jpg\n",
      "File name :  C:/Users/wjdgn/OpenCV/source/marathon_01.jpg\n",
      "File name :  C:/Users/wjdgn/OpenCV/source/marathon_01.jpg\n"
     ]
    }
   ],
   "source": [
    "main = Tk()\n",
    "main.title(title_name)\n",
    "main.geometry()\n",
    "read_img = cv2.imread('../source/marathon_01.jpg')\n",
    "(height,width) = read_img.shape[:2]\n",
    "\n",
    "ratio = frame_width / width\n",
    "dimension = (frame_width , int(height*ratio))\n",
    "#사이즈를 작게 새로 만듬\n",
    "read_img = cv2.resize(read_img,dimension,interpolation=cv2.INTER_AREA)\n",
    "\n",
    "#BGR --> RGB\n",
    "image= cv2.cvtColor(read_img,cv2.COLOR_BGR2RGB)\n",
    "image= Image.fromarray(image)\n",
    "#이미지 처리하기 위한 Tkinter\n",
    "#Tkinter 위에있는 Pillow 그림에다가 보여주려고 쓰는 것\n",
    "imgtk= ImageTk.PhotoImage(image=image)\n",
    "\n",
    "face_cascade = cv2.CascadeClassifier()\n",
    "eyes_cascade = cv2.CascadeClassifier()\n",
    "#Haar 방식\n",
    "if not face_cascade.load(cv2.samples.findFile(face_cascade_name)):\n",
    "    print(\"--(!)Error loading face cascade\")\n",
    "    exit(0)\n",
    "if not eyes_cascade.load(cv2.samples.findFile(eyes_cascade_name)):\n",
    "    print(\"--(!)Error loading face cascade\")\n",
    "    exit(0)\n",
    "#Haar 방식은 확실히 예외처리에 약하다\n",
    "\n",
    "#TKinter\n",
    "label = Label(main,text=title_name)\n",
    "label.config(font=(\"Courier\",18))\n",
    "label.grid(row=0,column=0,columnspan=4)\n",
    "sizeLabel = Label(main,text=\"Frame Width :\")\n",
    "sizeLabel.grid(row=1,column=0)\n",
    "sizeVal = IntVar(value=frame_width)\n",
    "sizeSpin = Spinbox(main,textvariable=sizeVal,from_=0,to=2000,increment=100,justify=RIGHT)\n",
    "sizeSpin.grid(row=1,column=1)\n",
    "Button(main,text='File Select',height=2,command=lambda:selectFile()).grid(row=1,column=2,columnspan=2,sticky=(W,E))\n",
    "detection = Label(main,image=imgtk)\n",
    "detection.grid(row=2,column=0,columnspan=4)\n",
    "detectAndDisplay(read_img)\n",
    "\n",
    "main.mainloop()\n",
    "\n",
    "#크기가 커지면 정확도가 좋아짐(얼굴,눈인식이 좀 더 명확해짐)"
   ]
  },
  {
   "cell_type": "code",
   "execution_count": null,
   "metadata": {},
   "outputs": [],
   "source": []
  }
 ],
 "metadata": {
  "kernelspec": {
   "display_name": "Python 3",
   "language": "python",
   "name": "python3"
  },
  "language_info": {
   "codemirror_mode": {
    "name": "ipython",
    "version": 3
   },
   "file_extension": ".py",
   "mimetype": "text/x-python",
   "name": "python",
   "nbconvert_exporter": "python",
   "pygments_lexer": "ipython3",
   "version": "3.7.4"
  }
 },
 "nbformat": 4,
 "nbformat_minor": 2
}
