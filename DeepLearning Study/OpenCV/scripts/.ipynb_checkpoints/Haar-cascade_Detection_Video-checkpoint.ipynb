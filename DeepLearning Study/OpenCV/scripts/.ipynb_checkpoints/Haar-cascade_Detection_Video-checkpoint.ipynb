{
 "cells": [
  {
   "cell_type": "code",
   "execution_count": 2,
   "metadata": {},
   "outputs": [],
   "source": [
    "import cv2\n",
    "import numpy as np"
   ]
  },
  {
   "cell_type": "code",
   "execution_count": 3,
   "metadata": {},
   "outputs": [],
   "source": [
    "face_cascade_name = './haarcascade_frontalface_alt.xml'\n",
    "eyes_cascade_name= './haarcascade_eye_tree_eyeglasses.xml'\n",
    "file_name = '../source/obama_01.mp4'"
   ]
  },
  {
   "cell_type": "code",
   "execution_count": 4,
   "metadata": {},
   "outputs": [],
   "source": [
    "def detectAndDisplay(frame):\n",
    "    frame_gray = cv2.cvtColor(frame,cv2.COLOR_BGR2GRAY)\n",
    "    frame_gray = cv2.equalizeHist(frame_gray)\n",
    "    faces = face_cascade.detectMultiScale(frame_gray)\n",
    "    for (x,y,w,h) in faces:\n",
    "        cetner = (x+w//2,y+h//2)\n",
    "        frame = cv2.rectangle(frame, (x,y),(x+w, y+h),(0,255,0),4)\n",
    "        faceROI = frame_gray[y:y+h,x:x+w]\n",
    "        eyes = eyes_cascade.detectMultiScale(faceROI)\n",
    "        for (x2,y2,w2,h2) in eyes:\n",
    "            eye_center = (x+x2+w2//2 , y+y2+h2//2)\n",
    "            radius = int(round((w2+h2)*0.25))\n",
    "            frame = cv2.circle(frame,eye_center, radius,(255,0,0),4)\n",
    "    cv2.imshow(\"capture-face detection\",frame)"
   ]
  },
  {
   "cell_type": "code",
   "execution_count": 5,
   "metadata": {},
   "outputs": [
    {
     "ename": "AttributeError",
     "evalue": "module 'cv2.cv2' has no attribute 'destoryAllWindows'",
     "output_type": "error",
     "traceback": [
      "\u001b[1;31m---------------------------------------------------------------------------\u001b[0m",
      "\u001b[1;31mAttributeError\u001b[0m                            Traceback (most recent call last)",
      "\u001b[1;32m<ipython-input-5-8bc1c4e673af>\u001b[0m in \u001b[0;36m<module>\u001b[1;34m\u001b[0m\n\u001b[0;32m     21\u001b[0m     \u001b[0mdetectAndDisplay\u001b[0m\u001b[1;33m(\u001b[0m\u001b[0mframe\u001b[0m\u001b[1;33m)\u001b[0m\u001b[1;33m\u001b[0m\u001b[1;33m\u001b[0m\u001b[0m\n\u001b[0;32m     22\u001b[0m     \u001b[1;32mif\u001b[0m \u001b[0mcv2\u001b[0m\u001b[1;33m.\u001b[0m\u001b[0mwaitKey\u001b[0m\u001b[1;33m(\u001b[0m\u001b[1;36m1\u001b[0m\u001b[1;33m)\u001b[0m\u001b[1;33m&\u001b[0m\u001b[1;36m0xFF\u001b[0m\u001b[1;33m==\u001b[0m\u001b[0mord\u001b[0m\u001b[1;33m(\u001b[0m\u001b[1;34m'q'\u001b[0m\u001b[1;33m)\u001b[0m\u001b[1;33m:\u001b[0m\u001b[1;33m\u001b[0m\u001b[1;33m\u001b[0m\u001b[0m\n\u001b[1;32m---> 23\u001b[1;33m         \u001b[0mcv2\u001b[0m\u001b[1;33m.\u001b[0m\u001b[0mdestoryAllWindows\u001b[0m\u001b[1;33m(\u001b[0m\u001b[1;33m)\u001b[0m\u001b[1;33m\u001b[0m\u001b[1;33m\u001b[0m\u001b[0m\n\u001b[0m\u001b[0;32m     24\u001b[0m         \u001b[1;32mbreak\u001b[0m\u001b[1;33m\u001b[0m\u001b[1;33m\u001b[0m\u001b[0m\n\u001b[0;32m     25\u001b[0m \u001b[1;33m\u001b[0m\u001b[0m\n",
      "\u001b[1;31mAttributeError\u001b[0m: module 'cv2.cv2' has no attribute 'destoryAllWindows'"
     ]
    }
   ],
   "source": [
    "face_cascade = cv2.CascadeClassifier()\n",
    "eyes_cascade = cv2.CascadeClassifier()\n",
    "#Haar 방식\n",
    "if not face_cascade.load(cv2.samples.findFile(face_cascade_name)):\n",
    "    print(\"--(!)Error loading face cascade\")\n",
    "    exit(0)\n",
    "if not eyes_cascade.load(cv2.samples.findFile(eyes_cascade_name)):\n",
    "    print(\"--(!)Error loading face cascade\")\n",
    "    exit(0)\n",
    "    \n",
    "cap = cv2.VideoCapture(file_name)\n",
    "if not cap.isOpened:\n",
    "    print(\"--(!)Error opening video cap\")\n",
    "    exit(0)\n",
    "while True:\n",
    "    ret,frame = cap.read()\n",
    "    if frame is None:\n",
    "        print(\"--(!) No Captured frame -- Break!\")\n",
    "        cv2.destroyAllWindows()\n",
    "        break\n",
    "    detectAndDisplay(frame)\n",
    "    if cv2.waitKey(1)&0xFF==ord('q'):\n",
    "        cv2.destroyAllWindows()\n",
    "        break\n",
    "        "
   ]
  },
  {
   "cell_type": "code",
   "execution_count": null,
   "metadata": {},
   "outputs": [],
   "source": []
  }
 ],
 "metadata": {
  "kernelspec": {
   "display_name": "Python 3",
   "language": "python",
   "name": "python3"
  },
  "language_info": {
   "codemirror_mode": {
    "name": "ipython",
    "version": 3
   },
   "file_extension": ".py",
   "mimetype": "text/x-python",
   "name": "python",
   "nbconvert_exporter": "python",
   "pygments_lexer": "ipython3",
   "version": "3.7.4"
  }
 },
 "nbformat": 4,
 "nbformat_minor": 2
}
