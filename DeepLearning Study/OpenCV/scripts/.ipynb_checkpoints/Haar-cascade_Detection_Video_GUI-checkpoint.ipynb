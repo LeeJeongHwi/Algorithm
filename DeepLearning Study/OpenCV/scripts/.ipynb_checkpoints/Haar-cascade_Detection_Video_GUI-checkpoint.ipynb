{
 "cells": [
  {
   "cell_type": "code",
   "execution_count": 4,
   "metadata": {},
   "outputs": [],
   "source": [
    "import cv2\n",
    "import numpy as np\n",
    "from tkinter import *\n",
    "from PIL import Image\n",
    "from PIL import ImageTk\n",
    "from tkinter import filedialog"
   ]
  },
  {
   "cell_type": "code",
   "execution_count": 5,
   "metadata": {},
   "outputs": [],
   "source": [
    "face_cascade_name = './haarcascade_frontalface_alt.xml'\n",
    "eyes_cascade_name= './haarcascade_eye_tree_eyeglasses.xml'\n",
    "file_name = '../source/son_01.mp4'\n",
    "frame_width = 500\n",
    "cap =cv2.VideoCapture()\n",
    "title_name ='Haar Cascade-Detection Video'"
   ]
  },
  {
   "cell_type": "code",
   "execution_count": 6,
   "metadata": {},
   "outputs": [],
   "source": [
    "def detectAndDisplay():\n",
    "    _, frame = cap.read()\n",
    "    frame_gray = cv2.cvtColor(frame,cv2.COLOR_BGR2GRAY)\n",
    "    frame_gray = cv2.equalizeHist(frame_gray)\n",
    "    faces = face_cascade.detectMultiScale(frame_gray)\n",
    "    for (x,y,w,h) in faces:\n",
    "        cetner = (x+w//2,y+h//2)\n",
    "        frame = cv2.rectangle(frame, (x,y),(x+w, y+h),(0,255,0),4)\n",
    "        faceROI = frame_gray[y:y+h,x:x+w]\n",
    "        eyes = eyes_cascade.detectMultiScale(faceROI)\n",
    "        for (x2,y2,w2,h2) in eyes:\n",
    "            eye_center = (x+x2+w2//2 , y+y2+h2//2)\n",
    "            radius = int(round((w2+h2)*0.25))\n",
    "            frame = cv2.circle(frame,eye_center, radius,(255,0,0),4)\n",
    "    cv2image = cv2.cvtColor(frame,cv2.COLOR_BGR2RGB)\n",
    "    img = Image.fromarray(cv2image)\n",
    "    imgtk = ImageTk.PhotoImage(image=img)\n",
    "    lmain.imgtk =imgtk\n",
    "    lmain.configure(image=imgtk)\n",
    "    lmain.after(10,detectAndDisplay) #계속 함수를 call"
   ]
  },
  {
   "cell_type": "code",
   "execution_count": 7,
   "metadata": {},
   "outputs": [],
   "source": [
    "def selectFile():\n",
    "    file_name = filedialog.askopenfilename(initialdir= '../source',title='select File',\n",
    "                                          filetypes=(('MP4 files','*.mp4'),('all file','*.*')))\n",
    "    print(\"File_name\",file_name)\n",
    "    global cap\n",
    "    cap = cv2.VideoCapture(file_name)\n",
    "    detectAndDisplay()"
   ]
  },
  {
   "cell_type": "code",
   "execution_count": 8,
   "metadata": {},
   "outputs": [],
   "source": [
    "face_cascade = cv2.CascadeClassifier()\n",
    "eyes_cascade = cv2.CascadeClassifier()\n",
    "#Haar 방식\n",
    "if not face_cascade.load(cv2.samples.findFile(face_cascade_name)):\n",
    "    print(\"--(!)Error loading face cascade\")\n",
    "    exit(0)\n",
    "if not eyes_cascade.load(cv2.samples.findFile(eyes_cascade_name)):\n",
    "    print(\"--(!)Error loading face cascade\")\n",
    "    exit(0)"
   ]
  },
  {
   "cell_type": "code",
   "execution_count": 13,
   "metadata": {},
   "outputs": [
    {
     "name": "stdout",
     "output_type": "stream",
     "text": [
      "File_name C:/Users/wjdgn/OpenCV/source/son_02.mp4\n",
      "File_name C:/Users/wjdgn/OpenCV/source/obama_01.mp4\n"
     ]
    }
   ],
   "source": [
    "main=Tk()\n",
    "main.title(title_name)\n",
    "main.geometry()\n",
    "label = Label(main,text=title_name)\n",
    "label.config(font=(\"Courier\",18))\n",
    "label.grid(row=0,column=0,columnspan=4)\n",
    "Button(main,text='File Select',height=2,command=lambda:selectFile()).grid(row=1,column=2,columnspan=4,sticky=(W,E))\n",
    "imageFrame = Frame(main)\n",
    "imageFrame.grid(row=2,column=0,columnspan=4)\n",
    "\n",
    "lmain = Label(imageFrame)\n",
    "lmain.grid(row=0,column=0)\n",
    "main.mainloop()"
   ]
  }
 ],
 "metadata": {
  "kernelspec": {
   "display_name": "Python 3",
   "language": "python",
   "name": "python3"
  },
  "language_info": {
   "codemirror_mode": {
    "name": "ipython",
    "version": 3
   },
   "file_extension": ".py",
   "mimetype": "text/x-python",
   "name": "python",
   "nbconvert_exporter": "python",
   "pygments_lexer": "ipython3",
   "version": "3.7.4"
  }
 },
 "nbformat": 4,
 "nbformat_minor": 2
}
