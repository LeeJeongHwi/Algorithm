{
 "cells": [
  {
   "cell_type": "code",
   "execution_count": 2,
   "metadata": {},
   "outputs": [],
   "source": [
    "import cv2\n",
    "import numpy as np"
   ]
  },
  {
   "cell_type": "code",
   "execution_count": 3,
   "metadata": {},
   "outputs": [],
   "source": [
    "img = cv2.imread(\"../source/nomadProgramerIcon.png\")\n",
    "gray = cv2.cvtColor(img,cv2.COLOR_BGR2GRAY)\n",
    "\n",
    "\n",
    "cv2.imshow('Nomad',img)\n",
    "cv2.imshow('Nomad_GRAY',gray)\n",
    "cv2.waitKey(0)\n",
    "cv2.destroyAllWindows()"
   ]
  },
  {
   "cell_type": "code",
   "execution_count": 4,
   "metadata": {},
   "outputs": [
    {
     "name": "stdout",
     "output_type": "stream",
     "text": [
      "width: 653 pixels\n",
      "heigth: 653 pixels\n",
      "channels: 3\n"
     ]
    }
   ],
   "source": [
    "print(\"width: {} pixels\".format(img.shape[1]))\n",
    "print(\"heigth: {} pixels\".format(img.shape[0]))\n",
    "print(\"channels: {}\".format(img.shape[2]))"
   ]
  },
  {
   "cell_type": "markdown",
   "metadata": {},
   "source": [
    "## 이미지저장"
   ]
  },
  {
   "cell_type": "code",
   "execution_count": 8,
   "metadata": {},
   "outputs": [],
   "source": [
    "cv2.imshow('Nomad',img)\n",
    "cv2.waitKey(0)\n",
    "cv2.imwrite('../source/nomad_test.jpg',img)\n",
    "cv2.destroyAllWindows()"
   ]
  },
  {
   "cell_type": "markdown",
   "metadata": {},
   "source": [
    "## 이미지 그리기"
   ]
  },
  {
   "cell_type": "code",
   "execution_count": 13,
   "metadata": {
    "scrolled": true
   },
   "outputs": [
    {
     "name": "stdout",
     "output_type": "stream",
     "text": [
      "Pixel at (0,0) - Red : 235, Green : 250, Blue : 247\n"
     ]
    }
   ],
   "source": [
    "(b,g,r) = img[0,0] #open CV에서는 B G R 순이다\n",
    "print(\"Pixel at (0,0) - Red : {}, Green : {}, Blue : {}\".format(r,g,b))"
   ]
  },
  {
   "cell_type": "code",
   "execution_count": 9,
   "metadata": {},
   "outputs": [],
   "source": [
    "dot = img[50:100 , 50:100]\n",
    "# cv2.imshow(\"Dot\",dot)\n",
    "\n",
    "#50,50 ~ 100,100 까지 GBR --> Red dot으로 칠해라\n",
    "img[50:100,50:100] = (0,0,255)\n",
    "\n",
    "#Rectangle(img,x,y,BGR,border)\n",
    "cv2.rectangle(img,(150,50),(200,100),(0,255,0),5)\n",
    "\n",
    "#circle(img,(x,y),r(반지름),BGR,border) - border가 -1이면 도형 색을 채움\n",
    "cv2.circle(img,(275,75),25,(0,255,255),-1)\n",
    "\n",
    "#line (img,(좌표),BGR,border)\n",
    "cv2.line(img,(350,100),(400,100),(255,0,0),5)\n",
    "\n",
    "#Text (img,text,(X,Y),Font,FontSize,Color,Border)\n",
    "cv2.putText(img,'Leepaper',(450,100),cv2.FONT_HERSHEY_SIMPLEX,1,(255,255,255),4)\n",
    "cv2.imshow('image _ dotted ',img)\n",
    "\n",
    "\n",
    "cv2.waitKey(0)\n",
    "cv2.destroyAllWindows()"
   ]
  },
  {
   "cell_type": "markdown",
   "metadata": {},
   "source": [
    "## 이미지 변형하기"
   ]
  },
  {
   "cell_type": "code",
   "execution_count": 30,
   "metadata": {},
   "outputs": [
    {
     "name": "stdout",
     "output_type": "stream",
     "text": [
      "width: 653 pixels\n",
      "heigth: 653 pixels\n",
      "channels: 3\n"
     ]
    }
   ],
   "source": [
    "print(\"width: {} pixels\".format(img.shape[1]))\n",
    "print(\"heigth: {} pixels\".format(img.shape[0]))\n",
    "print(\"channels: {}\".format(img.shape[2]))\n",
    "\n",
    "(height,width) = img.shape[:2]\n",
    "center = (width//2,height//2)\n",
    "\n",
    "#이미지 옮기기\n",
    "move = np.float32([[1,0,100],[0,1,100]])\n",
    "moved = cv2.warpAffine(img,move,(width,height))\n",
    "\n",
    "#이미지 회전\n",
    "move = cv2.getRotationMatrix2D(center,-90,1.0)\n",
    "rotated = cv2.warpAffine(img,move,(width,height))\n",
    "\n",
    "#사이즈 변환\n",
    "ratio = 200.0/width\n",
    "dimension = (200,int(height*ratio))\n",
    "# interporlation = INTER_AREA --> 자주 사용\n",
    "resized = cv2.resize(img,dimension,interpolation=cv2.INTER_AREA)\n",
    "\n",
    "#Flip, 좌우상하대칭 1 (좌우) 0 (상하) -1 (좌우상하)\n",
    "flipped = cv2.flip(img,1)\n"
   ]
  },
  {
   "cell_type": "code",
   "execution_count": 1,
   "metadata": {},
   "outputs": [
    {
     "ename": "NameError",
     "evalue": "name 'cv2' is not defined",
     "output_type": "error",
     "traceback": [
      "\u001b[1;31m---------------------------------------------------------------------------\u001b[0m",
      "\u001b[1;31mNameError\u001b[0m                                 Traceback (most recent call last)",
      "\u001b[1;32m<ipython-input-1-e9888892f11a>\u001b[0m in \u001b[0;36m<module>\u001b[1;34m\u001b[0m\n\u001b[0;32m      2\u001b[0m \u001b[1;31m# cv2.imshow(\"Rotated\",rotated)\u001b[0m\u001b[1;33m\u001b[0m\u001b[1;33m\u001b[0m\u001b[1;33m\u001b[0m\u001b[0m\n\u001b[0;32m      3\u001b[0m \u001b[1;31m# cv2.imshow('Resized',resized)\u001b[0m\u001b[1;33m\u001b[0m\u001b[1;33m\u001b[0m\u001b[1;33m\u001b[0m\u001b[0m\n\u001b[1;32m----> 4\u001b[1;33m \u001b[0mcv2\u001b[0m\u001b[1;33m.\u001b[0m\u001b[0mimshow\u001b[0m\u001b[1;33m(\u001b[0m\u001b[1;34m'Flipped Horizontal 1, Verteical 0, both -1'\u001b[0m\u001b[1;33m,\u001b[0m\u001b[0mflipped\u001b[0m\u001b[1;33m)\u001b[0m\u001b[1;33m\u001b[0m\u001b[1;33m\u001b[0m\u001b[0m\n\u001b[0m\u001b[0;32m      5\u001b[0m \u001b[0mcv2\u001b[0m\u001b[1;33m.\u001b[0m\u001b[0mwaitKey\u001b[0m\u001b[1;33m(\u001b[0m\u001b[1;36m0\u001b[0m\u001b[1;33m)\u001b[0m\u001b[1;33m\u001b[0m\u001b[1;33m\u001b[0m\u001b[0m\n\u001b[0;32m      6\u001b[0m \u001b[0mcv2\u001b[0m\u001b[1;33m.\u001b[0m\u001b[0mdestroyAllWindows\u001b[0m\u001b[1;33m(\u001b[0m\u001b[1;33m)\u001b[0m\u001b[1;33m\u001b[0m\u001b[1;33m\u001b[0m\u001b[0m\n",
      "\u001b[1;31mNameError\u001b[0m: name 'cv2' is not defined"
     ]
    }
   ],
   "source": [
    "# cv2.imshow(\"Moved down : +, up: - and right: + , left -\",moved)\n",
    "# cv2.imshow(\"Rotated\",rotated)\n",
    "# cv2.imshow('Resized',resized)\n",
    "cv2.imshow('Flipped Horizontal 1, Verteical 0, both -1',flipped)\n",
    "cv2.waitKey(0)\n",
    "cv2.destroyAllWindows()"
   ]
  },
  {
   "cell_type": "markdown",
   "metadata": {},
   "source": [
    "## 이미지 마스킹"
   ]
  },
  {
   "cell_type": "code",
   "execution_count": 6,
   "metadata": {},
   "outputs": [],
   "source": [
    "img = cv2.imread(\"../source/nomadProgramerIcon.png\")\n",
    "(height,width) = img.shape[:2]\n",
    "center = (width//2,height//2)\n",
    "\n",
    "#Create Mask\n",
    "mask = np.zeros(img.shape[:2], dtype='uint8') # rgb = zero!\n",
    "cv2.circle(mask,center,300,(255,255,255),-1)\n",
    "# cv2.imshow(\"mask\",mask)\n",
    "\n",
    "#BitWise_and\n",
    "masked = cv2.bitwise_and(img,img,mask=mask) # 공통적인 영역에 mask를 씌움\n",
    "#img,img는 전체 영역, mask = mask 는 아까 만들어진 마스크를 씌운것\n",
    "\n",
    "cv2.imshow(\"masked Picture\",masked)\n",
    "\n",
    "cv2.waitKey(0)\n",
    "cv2.destroyAllWindows()"
   ]
  },
  {
   "cell_type": "markdown",
   "metadata": {},
   "source": [
    "## 이미지 채널 (Channel) 조작\n",
    "\n",
    "이미지 채널은 color의 channel을 의미"
   ]
  },
  {
   "cell_type": "code",
   "execution_count": 3,
   "metadata": {},
   "outputs": [],
   "source": [
    "img = cv2.imread(\"../source/nomadProgramerIcon.png\")\n",
    "\n",
    "height,width = img.shape[:2]\n",
    "center = (width//2 , height//2)\n",
    "\n",
    "(b,g,r)= cv2.split(img) #B G R 로 채널 분류\n",
    "cv2.imshow(\"blue\",b)\n",
    "cv2.imshow(\"green\",g)\n",
    "cv2.imshow(\"red\",r)\n",
    "cv2.waitKey(0)\n",
    "#자기색만 보이는 것\n",
    "zeros = np.zeros(img.shape[:2],dtype='uint8')\n",
    "cv2.imshow('blue',cv2.merge([b,zeros,zeros]))\n",
    "cv2.imshow('green',cv2.merge([zeros,g,zeros]))\n",
    "cv2.imshow('red',cv2.merge([zeros,zeros,r]))\n",
    "cv2.waitKey(0)"
   ]
  },
  {
   "cell_type": "code",
   "execution_count": 7,
   "metadata": {},
   "outputs": [],
   "source": [
    "gray = cv2.cvtColor(img,cv2.COLOR_BGR2GRAY)\n",
    "cv2.imshow('Gray filter',gray)\n",
    "hsv = cv2.cvtColor(img,cv2.COLOR_BGR2HSV)\n",
    "cv2.imshow('Hsv filter',hsv)\n",
    "lab = cv2.cvtColor(img,cv2.COLOR_BGR2LAB)\n",
    "cv2.imshow('Lab Filter',lab)\n",
    "cv2.waitKey(0)\n",
    "\n",
    "BGR = cv2.merge([b,g,r])\n",
    "cv2.imshow('BGR',BGR)\n",
    "cv2.waitKey(0)\n",
    "\n",
    "cv2.destroyAllWindows()"
   ]
  }
 ],
 "metadata": {
  "kernelspec": {
   "display_name": "Python 3",
   "language": "python",
   "name": "python3"
  },
  "language_info": {
   "codemirror_mode": {
    "name": "ipython",
    "version": 3
   },
   "file_extension": ".py",
   "mimetype": "text/x-python",
   "name": "python",
   "nbconvert_exporter": "python",
   "pygments_lexer": "ipython3",
   "version": "3.7.4"
  }
 },
 "nbformat": 4,
 "nbformat_minor": 2
}
