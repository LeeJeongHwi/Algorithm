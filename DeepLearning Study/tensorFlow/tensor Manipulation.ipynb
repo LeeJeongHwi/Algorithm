{
 "cells": [
  {
   "cell_type": "code",
   "execution_count": 3,
   "metadata": {},
   "outputs": [],
   "source": [
    "import tensorflow.compat.v1 as tf\n",
    "import numpy as np\n",
    "tf.disable_v2_behavior()"
   ]
  },
  {
   "cell_type": "code",
   "execution_count": 5,
   "metadata": {},
   "outputs": [
    {
     "name": "stdout",
     "output_type": "stream",
     "text": [
      "1\n",
      "(7,)\n",
      "0.0 1.0 6.0\n",
      "[2. 3. 4.] [4. 5.]\n",
      "[0. 1.] [3. 4. 5. 6.]\n"
     ]
    }
   ],
   "source": [
    "t= np.array([0.,1.,2.,3.,4.,5.,6.])\n",
    "print(t.ndim) #rank\n",
    "print(t.shape) #shape\n",
    "print(t[0],t[1],t[-1])\n",
    "print(t[2:5], t[4:-1])\n",
    "print(t[:2],t[3:])"
   ]
  },
  {
   "cell_type": "code",
   "execution_count": 8,
   "metadata": {},
   "outputs": [],
   "source": [
    "#Broad Casting - 랭크가 다르더라도 연산을 시켜줌"
   ]
  },
  {
   "cell_type": "code",
   "execution_count": 12,
   "metadata": {},
   "outputs": [],
   "source": [
    "#reduce_mean - 타입에 따라 평균값이 나옴 그래서 float으로 표현해야함\n",
    "#tf.reduce_mean([1,2],axis=1).eval() --> 1\n",
    "#axis에따라 평균을 계산하는 곳이 달라짐\n",
    "#axis - Rank개의 축이 있음 , 안쪽 값부터 3,2,1,0 ,, 가장 안쪽에 있는게 -1"
   ]
  },
  {
   "cell_type": "code",
   "execution_count": null,
   "metadata": {},
   "outputs": [],
   "source": [
    "\"\"\"\n",
    "Argmax - 가장 큰 값의 index를 구하는 함수\n",
    "\n",
    "Reshape**\n",
    "    Shape의 맨 뒷 값은 거의 건드리지 않음\n",
    "\n",
    "    squeeze - tf.squeeze([[0],[1],[2]])\n",
    "    --> array([0,1,2])\n",
    "    expand - tf.expand_dims([0,1,2],1)\n",
    "    --> array([[0],[1],[2]])\n",
    "\n",
    "One Hot\n",
    "    tf.one_hot([[0],[1],[2],[0]],depth=3) #Rank + 1 하게 됨\n",
    "--> array([[[1.,0.,0.]],\n",
    "           [[0.,1.,0.]],\n",
    "           [[0.,0.,1.]],\n",
    "           [[1.,0.,0.]]])\n",
    "\n",
    "Casting\n",
    "    tf.cast([1.8,2.2,3.3,4.9],tf.int32)\n",
    "    --> [1,2,3,4]\n",
    "    \n",
    "Stack\n",
    "    tf.stack[x,y,z]\n",
    "    --> array([[1,4],[2,5],[3,6]])\n",
    "    \n",
    "Ones and Zeros like\n",
    "    x=[[0,1,2],[2,1,0]]\n",
    "    tf.ones_like(x)\n",
    "    array = [[1,1,1],[1,1,1]]\n",
    "    tf.zeros_like(x)\n",
    "    array = [[0,0,0],[0,0,0]]\n",
    "    \n",
    "zip\n",
    "    for x,y in zip([1,2,3],[4,5,6])\n",
    "    1 4\n",
    "    2 5\n",
    "    3 6\n",
    "    \n",
    "\"\"\""
   ]
  }
 ],
 "metadata": {
  "kernelspec": {
   "display_name": "Python 3",
   "language": "python",
   "name": "python3"
  },
  "language_info": {
   "codemirror_mode": {
    "name": "ipython",
    "version": 3
   },
   "file_extension": ".py",
   "mimetype": "text/x-python",
   "name": "python",
   "nbconvert_exporter": "python",
   "pygments_lexer": "ipython3",
   "version": "3.7.4"
  }
 },
 "nbformat": 4,
 "nbformat_minor": 2
}
