{
 "cells": [
  {
   "cell_type": "code",
   "execution_count": 3,
   "metadata": {},
   "outputs": [
    {
     "name": "stdout",
     "output_type": "stream",
     "text": [
      "Extracting MNIST_data/train-images-idx3-ubyte.gz\n",
      "Extracting MNIST_data/train-labels-idx1-ubyte.gz\n",
      "Extracting MNIST_data/t10k-images-idx3-ubyte.gz\n",
      "Extracting MNIST_data/t10k-labels-idx1-ubyte.gz\n"
     ]
    }
   ],
   "source": [
    "import tensorflow.compat.v1 as tf\n",
    "import numpy as np\n",
    "import matplotlib.pyplot as plt\n",
    "import random\n",
    "tf.disable_v2_behavior()\n",
    "from tensorflow.examples.tutorials.mnist import input_data\n",
    "mnist = input_data.read_data_sets(\"MNIST_data/\",one_hot=True)"
   ]
  },
  {
   "cell_type": "code",
   "execution_count": 10,
   "metadata": {},
   "outputs": [
    {
     "name": "stdout",
     "output_type": "stream",
     "text": [
      "Epoch :  0001 cost = 3.106223009\n",
      "Epoch :  0002 cost = 1.114726401\n",
      "Epoch :  0003 cost = 0.880426123\n",
      "Epoch :  0004 cost = 0.763558146\n",
      "Epoch :  0005 cost = 0.696313105\n",
      "Epoch :  0006 cost = 0.647091251\n",
      "Epoch :  0007 cost = 0.605986847\n",
      "Epoch :  0008 cost = 0.578348806\n",
      "Epoch :  0009 cost = 0.550793126\n",
      "Epoch :  0010 cost = 0.533243694\n",
      "Epoch :  0011 cost = 0.514096870\n",
      "Epoch :  0012 cost = 0.497287886\n",
      "Epoch :  0013 cost = 0.485064888\n",
      "Epoch :  0014 cost = 0.472453813\n",
      "Epoch :  0015 cost = 0.461642023\n",
      "Accuracy:  0.8901\n",
      "Label: [3]\n",
      "Prediction: [3]\n"
     ]
    },
    {
     "data": {
      "image/png": "[encoded data removed]",
      "text/plain": [
       "<Figure size 432x288 with 1 Axes>"
      ]
     },
     "metadata": {
      "needs_background": "light"
     },
     "output_type": "display_data"
    }
   ],
   "source": [
    "# 28x28x1 pixelimage\n",
    "\n",
    "batch_xs,batch_ys = mnist.train.next_batch(100)\n",
    "\n",
    "X = tf.placeholder(tf.float32,[None,784])\n",
    "nb_classes = 10\n",
    "Y = tf.placeholder(tf.float32,[None,nb_classes])\n",
    "W = tf.Variable(tf.random_normal([784,nb_classes]))\n",
    "b = tf.Variable(tf.random_normal([nb_classes]))\n",
    "\n",
    "hypothesis = tf.nn.softmax(tf.matmul(X,W)+b)\n",
    "\n",
    "cost= tf.reduce_mean(-tf.reduce_sum(Y*tf.log(hypothesis),axis=1))\n",
    "optimizer= tf.train.GradientDescentOptimizer(learning_rate=0.1).minimize(cost)\n",
    "\n",
    "is_correct = tf.equal(tf.arg_max(hypothesis,1),tf.arg_max(Y,1))\n",
    "accuracy = tf.reduce_mean(tf.cast(is_correct, tf.float32))\n",
    "\n",
    "#epochs = 전체 데이터셋을 한번 다 학습 시킨 것을 1 epochs 라고함\n",
    "training_epochs = 15\n",
    "batch_size= 100\n",
    "#ex ) 1000 traning example, batchsize = 500 일때 epoch은 2이다\n",
    "\n",
    "with tf.Session() as sess:\n",
    "    sess.run(tf.global_variables_initializer())\n",
    "    \n",
    "    for epoch in range(training_epochs):\n",
    "        avg_cost = 0\n",
    "        total_batch = int(mnist.train.num_examples / batch_size)\n",
    "        \n",
    "        for i in range(total_batch):\n",
    "            batch_xs , batch_ys = mnist.train.next_batch(batch_size)\n",
    "            c,_=sess.run([cost,optimizer],feed_dict={X:batch_xs,Y:batch_ys})\n",
    "            avg_cost += c / total_batch\n",
    "        print(\"Epoch : \",\"%04d\" % (epoch+1),\"cost =\",\"{:.9f}\".format(avg_cost))\n",
    "\n",
    "    print(\"Accuracy: \", accuracy.eval(session=sess, feed_dict={X:mnist.test.images,Y:mnist.test.labels}))\n",
    "    r = random.randint(0,mnist.test.num_examples -1)\n",
    "    print(\"Label:\",sess.run(tf.argmax(mnist.test.labels[r:r+1],1)))\n",
    "    print(\"Prediction:\",sess.run(tf.argmax(hypothesis,1),feed_dict={X:mnist.test.images[r:r+1]}))\n",
    "    plt.imshow(mnist.test.images[r:r+1].reshape(28,28), cmap ='Greys',interpolation='nearest')\n",
    "    plt.show()"
   ]
  },
  {
   "cell_type": "code",
   "execution_count": null,
   "metadata": {},
   "outputs": [],
   "source": []
  }
 ],
 "metadata": {
  "kernelspec": {
   "display_name": "Python 3",
   "language": "python",
   "name": "python3"
  },
  "language_info": {
   "codemirror_mode": {
    "name": "ipython",
    "version": 3
   },
   "file_extension": ".py",
   "mimetype": "text/x-python",
   "name": "python",
   "nbconvert_exporter": "python",
   "pygments_lexer": "ipython3",
   "version": "3.7.4"
  }
 },
 "nbformat": 4,
 "nbformat_minor": 2
}
